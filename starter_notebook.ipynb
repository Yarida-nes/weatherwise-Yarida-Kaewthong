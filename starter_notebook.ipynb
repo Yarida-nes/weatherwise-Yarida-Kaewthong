{
  "cells": [
    {
      "cell_type": "markdown",
      "metadata": {
        "id": "view-in-github",
        "colab_type": "text"
      },
      "source": [
        "<a href=\"https://colab.research.google.com/github/Yarida-nes/weatherwise-Yarida-Kaewthong/blob/main/starter_notebook.ipynb\" target=\"_parent\"><img src=\"https://colab.research.google.com/assets/colab-badge.svg\" alt=\"Open In Colab\"/></a>"
      ]
    },
    {
      "cell_type": "markdown",
      "id": "72e78a05",
      "metadata": {
        "id": "72e78a05"
      },
      "source": [
        "# 🌦️ WeatherWise – Starter Notebook\n",
        "\n",
        "Welcome to your **WeatherWise** project notebook! This scaffold is designed to help you build your weather advisor app using Python, visualisations, and AI-enhanced development.\n",
        "\n",
        "---\n",
        "\n",
        "📄 **Full Assignment Specification**  \n",
        "See [`ASSIGNMENT.md`](ASSIGNMENT.md) or check the LMS for full details.\n",
        "\n",
        "📝 **Quick Refresher**  \n",
        "A one-page summary is available in [`resources/assignment-summary.md`](resources/assignment-summary.md).\n",
        "\n",
        "---\n",
        "\n",
        "🧠 **This Notebook Structure is Optional**  \n",
        "You’re encouraged to reorganise, rename sections, or remove scaffold cells if you prefer — as long as your final version meets the requirements.\n",
        "\n",
        "✅ You may delete this note before submission.\n",
        "\n"
      ]
    },
    {
      "cell_type": "markdown",
      "id": "fa8c7f6c",
      "metadata": {
        "id": "fa8c7f6c"
      },
      "source": [
        "## 🧰 Setup and Imports\n",
        "\n",
        "This section imports commonly used packages and installs any additional tools used in the project.\n",
        "\n",
        "- You may not need all of these unless you're using specific features (e.g. visualisations, advanced prompting).\n",
        "- The notebook assumes the following packages are **pre-installed** in the provided environment or installable via pip:\n",
        "  - `requests`, `matplotlib`, `pyinputplus`\n",
        "  - `fetch-my-weather` (for accessing weather data easily)\n",
        "  - `hands-on-ai` (for AI logging, comparisons, or prompting tools)\n",
        "\n",
        "If you're running this notebook in **Google Colab**, uncomment the following lines to install the required packages.\n"
      ]
    },
    {
      "cell_type": "code",
      "execution_count": 10,
      "id": "70c3f3f1",
      "metadata": {
        "id": "70c3f3f1",
        "colab": {
          "base_uri": "https://localhost:8080/"
        },
        "outputId": "d2c5f872-61d1-4d4f-87f9-1989178d7e2a"
      },
      "outputs": [
        {
          "output_type": "stream",
          "name": "stdout",
          "text": [
            "Collecting fetch-my-weather\n",
            "  Downloading fetch_my_weather-0.4.0-py3-none-any.whl.metadata (12 kB)\n",
            "Requirement already satisfied: requests>=2.25.0 in /usr/local/lib/python3.12/dist-packages (from fetch-my-weather) (2.32.4)\n",
            "Requirement already satisfied: pydantic>=1.8.0 in /usr/local/lib/python3.12/dist-packages (from fetch-my-weather) (2.11.9)\n",
            "Requirement already satisfied: annotated-types>=0.6.0 in /usr/local/lib/python3.12/dist-packages (from pydantic>=1.8.0->fetch-my-weather) (0.7.0)\n",
            "Requirement already satisfied: pydantic-core==2.33.2 in /usr/local/lib/python3.12/dist-packages (from pydantic>=1.8.0->fetch-my-weather) (2.33.2)\n",
            "Requirement already satisfied: typing-extensions>=4.12.2 in /usr/local/lib/python3.12/dist-packages (from pydantic>=1.8.0->fetch-my-weather) (4.15.0)\n",
            "Requirement already satisfied: typing-inspection>=0.4.0 in /usr/local/lib/python3.12/dist-packages (from pydantic>=1.8.0->fetch-my-weather) (0.4.1)\n",
            "Requirement already satisfied: charset_normalizer<4,>=2 in /usr/local/lib/python3.12/dist-packages (from requests>=2.25.0->fetch-my-weather) (3.4.3)\n",
            "Requirement already satisfied: idna<4,>=2.5 in /usr/local/lib/python3.12/dist-packages (from requests>=2.25.0->fetch-my-weather) (3.10)\n",
            "Requirement already satisfied: urllib3<3,>=1.21.1 in /usr/local/lib/python3.12/dist-packages (from requests>=2.25.0->fetch-my-weather) (2.5.0)\n",
            "Requirement already satisfied: certifi>=2017.4.17 in /usr/local/lib/python3.12/dist-packages (from requests>=2.25.0->fetch-my-weather) (2025.8.3)\n",
            "Downloading fetch_my_weather-0.4.0-py3-none-any.whl (17 kB)\n",
            "Installing collected packages: fetch-my-weather\n",
            "Successfully installed fetch-my-weather-0.4.0\n",
            "Collecting hands-on-ai\n",
            "  Downloading hands_on_ai-0.2.1-py3-none-any.whl.metadata (9.2 kB)\n",
            "Requirement already satisfied: requests in /usr/local/lib/python3.12/dist-packages (from hands-on-ai) (2.32.4)\n",
            "Requirement already satisfied: typer in /usr/local/lib/python3.12/dist-packages (from hands-on-ai) (0.17.4)\n",
            "Collecting python-fasthtml (from hands-on-ai)\n",
            "  Downloading python_fasthtml-0.12.29-py3-none-any.whl.metadata (9.3 kB)\n",
            "Collecting python-docx (from hands-on-ai)\n",
            "  Downloading python_docx-1.2.0-py3-none-any.whl.metadata (2.0 kB)\n",
            "Collecting pymupdf (from hands-on-ai)\n",
            "  Downloading pymupdf-1.26.4-cp39-abi3-manylinux_2_28_x86_64.whl.metadata (3.4 kB)\n",
            "Requirement already satisfied: scikit-learn in /usr/local/lib/python3.12/dist-packages (from hands-on-ai) (1.6.1)\n",
            "Requirement already satisfied: numpy in /usr/local/lib/python3.12/dist-packages (from hands-on-ai) (2.0.2)\n",
            "Collecting instructor>=1.11.0 (from hands-on-ai)\n",
            "  Downloading instructor-1.11.3-py3-none-any.whl.metadata (11 kB)\n",
            "Requirement already satisfied: pydantic>=2.0 in /usr/local/lib/python3.12/dist-packages (from hands-on-ai) (2.11.9)\n",
            "Requirement already satisfied: aiohttp<4.0.0,>=3.9.1 in /usr/local/lib/python3.12/dist-packages (from instructor>=1.11.0->hands-on-ai) (3.12.15)\n",
            "Collecting diskcache>=5.6.3 (from instructor>=1.11.0->hands-on-ai)\n",
            "  Downloading diskcache-5.6.3-py3-none-any.whl.metadata (20 kB)\n",
            "Requirement already satisfied: docstring-parser<1.0,>=0.16 in /usr/local/lib/python3.12/dist-packages (from instructor>=1.11.0->hands-on-ai) (0.17.0)\n",
            "Requirement already satisfied: jinja2<4.0.0,>=3.1.4 in /usr/local/lib/python3.12/dist-packages (from instructor>=1.11.0->hands-on-ai) (3.1.6)\n",
            "Collecting jiter<0.11,>=0.6.1 (from instructor>=1.11.0->hands-on-ai)\n",
            "  Downloading jiter-0.10.0-cp312-cp312-manylinux_2_17_x86_64.manylinux2014_x86_64.whl.metadata (5.2 kB)\n",
            "Requirement already satisfied: openai<2.0.0,>=1.70.0 in /usr/local/lib/python3.12/dist-packages (from instructor>=1.11.0->hands-on-ai) (1.108.0)\n",
            "Requirement already satisfied: pydantic-core<3.0.0,>=2.18.0 in /usr/local/lib/python3.12/dist-packages (from instructor>=1.11.0->hands-on-ai) (2.33.2)\n",
            "Requirement already satisfied: rich<15.0.0,>=13.7.0 in /usr/local/lib/python3.12/dist-packages (from instructor>=1.11.0->hands-on-ai) (13.9.4)\n",
            "Requirement already satisfied: tenacity<10.0.0,>=8.2.3 in /usr/local/lib/python3.12/dist-packages (from instructor>=1.11.0->hands-on-ai) (8.5.0)\n",
            "Requirement already satisfied: annotated-types>=0.6.0 in /usr/local/lib/python3.12/dist-packages (from pydantic>=2.0->hands-on-ai) (0.7.0)\n",
            "Requirement already satisfied: typing-extensions>=4.12.2 in /usr/local/lib/python3.12/dist-packages (from pydantic>=2.0->hands-on-ai) (4.15.0)\n",
            "Requirement already satisfied: typing-inspection>=0.4.0 in /usr/local/lib/python3.12/dist-packages (from pydantic>=2.0->hands-on-ai) (0.4.1)\n",
            "Requirement already satisfied: charset_normalizer<4,>=2 in /usr/local/lib/python3.12/dist-packages (from requests->hands-on-ai) (3.4.3)\n",
            "Requirement already satisfied: idna<4,>=2.5 in /usr/local/lib/python3.12/dist-packages (from requests->hands-on-ai) (3.10)\n",
            "Requirement already satisfied: urllib3<3,>=1.21.1 in /usr/local/lib/python3.12/dist-packages (from requests->hands-on-ai) (2.5.0)\n",
            "Requirement already satisfied: certifi>=2017.4.17 in /usr/local/lib/python3.12/dist-packages (from requests->hands-on-ai) (2025.8.3)\n",
            "Requirement already satisfied: click>=8.0.0 in /usr/local/lib/python3.12/dist-packages (from typer->hands-on-ai) (8.2.1)\n",
            "Requirement already satisfied: shellingham>=1.3.0 in /usr/local/lib/python3.12/dist-packages (from typer->hands-on-ai) (1.5.4)\n",
            "Requirement already satisfied: lxml>=3.1.0 in /usr/local/lib/python3.12/dist-packages (from python-docx->hands-on-ai) (5.4.0)\n",
            "Requirement already satisfied: fastcore>=1.8.1 in /usr/local/lib/python3.12/dist-packages (from python-fasthtml->hands-on-ai) (1.8.8)\n",
            "Requirement already satisfied: python-dateutil in /usr/local/lib/python3.12/dist-packages (from python-fasthtml->hands-on-ai) (2.9.0.post0)\n",
            "Requirement already satisfied: starlette>0.33 in /usr/local/lib/python3.12/dist-packages (from python-fasthtml->hands-on-ai) (0.48.0)\n",
            "Requirement already satisfied: oauthlib in /usr/local/lib/python3.12/dist-packages (from python-fasthtml->hands-on-ai) (3.3.1)\n",
            "Requirement already satisfied: itsdangerous in /usr/local/lib/python3.12/dist-packages (from python-fasthtml->hands-on-ai) (2.2.0)\n",
            "Requirement already satisfied: uvicorn>=0.30 in /usr/local/lib/python3.12/dist-packages (from uvicorn[standard]>=0.30->python-fasthtml->hands-on-ai) (0.35.0)\n",
            "Requirement already satisfied: httpx in /usr/local/lib/python3.12/dist-packages (from python-fasthtml->hands-on-ai) (0.28.1)\n",
            "Collecting fastlite>=0.1.1 (from python-fasthtml->hands-on-ai)\n",
            "  Downloading fastlite-0.2.1-py3-none-any.whl.metadata (12 kB)\n",
            "Requirement already satisfied: python-multipart in /usr/local/lib/python3.12/dist-packages (from python-fasthtml->hands-on-ai) (0.0.20)\n",
            "Requirement already satisfied: beautifulsoup4 in /usr/local/lib/python3.12/dist-packages (from python-fasthtml->hands-on-ai) (4.13.5)\n",
            "Requirement already satisfied: scipy>=1.6.0 in /usr/local/lib/python3.12/dist-packages (from scikit-learn->hands-on-ai) (1.16.2)\n",
            "Requirement already satisfied: joblib>=1.2.0 in /usr/local/lib/python3.12/dist-packages (from scikit-learn->hands-on-ai) (1.5.2)\n",
            "Requirement already satisfied: threadpoolctl>=3.1.0 in /usr/local/lib/python3.12/dist-packages (from scikit-learn->hands-on-ai) (3.6.0)\n",
            "Requirement already satisfied: aiohappyeyeballs>=2.5.0 in /usr/local/lib/python3.12/dist-packages (from aiohttp<4.0.0,>=3.9.1->instructor>=1.11.0->hands-on-ai) (2.6.1)\n",
            "Requirement already satisfied: aiosignal>=1.4.0 in /usr/local/lib/python3.12/dist-packages (from aiohttp<4.0.0,>=3.9.1->instructor>=1.11.0->hands-on-ai) (1.4.0)\n",
            "Requirement already satisfied: attrs>=17.3.0 in /usr/local/lib/python3.12/dist-packages (from aiohttp<4.0.0,>=3.9.1->instructor>=1.11.0->hands-on-ai) (25.3.0)\n",
            "Requirement already satisfied: frozenlist>=1.1.1 in /usr/local/lib/python3.12/dist-packages (from aiohttp<4.0.0,>=3.9.1->instructor>=1.11.0->hands-on-ai) (1.7.0)\n",
            "Requirement already satisfied: multidict<7.0,>=4.5 in /usr/local/lib/python3.12/dist-packages (from aiohttp<4.0.0,>=3.9.1->instructor>=1.11.0->hands-on-ai) (6.6.4)\n",
            "Requirement already satisfied: propcache>=0.2.0 in /usr/local/lib/python3.12/dist-packages (from aiohttp<4.0.0,>=3.9.1->instructor>=1.11.0->hands-on-ai) (0.3.2)\n",
            "Requirement already satisfied: yarl<2.0,>=1.17.0 in /usr/local/lib/python3.12/dist-packages (from aiohttp<4.0.0,>=3.9.1->instructor>=1.11.0->hands-on-ai) (1.20.1)\n",
            "Requirement already satisfied: packaging in /usr/local/lib/python3.12/dist-packages (from fastcore>=1.8.1->python-fasthtml->hands-on-ai) (25.0)\n",
            "Collecting apswutils>=0.1.0 (from fastlite>=0.1.1->python-fasthtml->hands-on-ai)\n",
            "  Downloading apswutils-0.1.0-py3-none-any.whl.metadata (7.4 kB)\n",
            "Requirement already satisfied: MarkupSafe>=2.0 in /usr/local/lib/python3.12/dist-packages (from jinja2<4.0.0,>=3.1.4->instructor>=1.11.0->hands-on-ai) (3.0.2)\n",
            "Requirement already satisfied: anyio<5,>=3.5.0 in /usr/local/lib/python3.12/dist-packages (from openai<2.0.0,>=1.70.0->instructor>=1.11.0->hands-on-ai) (4.10.0)\n",
            "Requirement already satisfied: distro<2,>=1.7.0 in /usr/local/lib/python3.12/dist-packages (from openai<2.0.0,>=1.70.0->instructor>=1.11.0->hands-on-ai) (1.9.0)\n",
            "Requirement already satisfied: sniffio in /usr/local/lib/python3.12/dist-packages (from openai<2.0.0,>=1.70.0->instructor>=1.11.0->hands-on-ai) (1.3.1)\n",
            "Requirement already satisfied: tqdm>4 in /usr/local/lib/python3.12/dist-packages (from openai<2.0.0,>=1.70.0->instructor>=1.11.0->hands-on-ai) (4.67.1)\n",
            "Requirement already satisfied: httpcore==1.* in /usr/local/lib/python3.12/dist-packages (from httpx->python-fasthtml->hands-on-ai) (1.0.9)\n",
            "Requirement already satisfied: h11>=0.16 in /usr/local/lib/python3.12/dist-packages (from httpcore==1.*->httpx->python-fasthtml->hands-on-ai) (0.16.0)\n",
            "Requirement already satisfied: markdown-it-py>=2.2.0 in /usr/local/lib/python3.12/dist-packages (from rich<15.0.0,>=13.7.0->instructor>=1.11.0->hands-on-ai) (4.0.0)\n",
            "Requirement already satisfied: pygments<3.0.0,>=2.13.0 in /usr/local/lib/python3.12/dist-packages (from rich<15.0.0,>=13.7.0->instructor>=1.11.0->hands-on-ai) (2.19.2)\n",
            "Collecting httptools>=0.6.3 (from uvicorn[standard]>=0.30->python-fasthtml->hands-on-ai)\n",
            "  Downloading httptools-0.6.4-cp312-cp312-manylinux_2_5_x86_64.manylinux1_x86_64.manylinux_2_17_x86_64.manylinux2014_x86_64.whl.metadata (3.6 kB)\n",
            "Requirement already satisfied: python-dotenv>=0.13 in /usr/local/lib/python3.12/dist-packages (from uvicorn[standard]>=0.30->python-fasthtml->hands-on-ai) (1.1.1)\n",
            "Requirement already satisfied: pyyaml>=5.1 in /usr/local/lib/python3.12/dist-packages (from uvicorn[standard]>=0.30->python-fasthtml->hands-on-ai) (6.0.2)\n",
            "Collecting uvloop>=0.15.1 (from uvicorn[standard]>=0.30->python-fasthtml->hands-on-ai)\n",
            "  Downloading uvloop-0.21.0-cp312-cp312-manylinux_2_17_x86_64.manylinux2014_x86_64.whl.metadata (4.9 kB)\n",
            "Collecting watchfiles>=0.13 (from uvicorn[standard]>=0.30->python-fasthtml->hands-on-ai)\n",
            "  Downloading watchfiles-1.1.0-cp312-cp312-manylinux_2_17_x86_64.manylinux2014_x86_64.whl.metadata (4.9 kB)\n",
            "Requirement already satisfied: websockets>=10.4 in /usr/local/lib/python3.12/dist-packages (from uvicorn[standard]>=0.30->python-fasthtml->hands-on-ai) (15.0.1)\n",
            "Requirement already satisfied: soupsieve>1.2 in /usr/local/lib/python3.12/dist-packages (from beautifulsoup4->python-fasthtml->hands-on-ai) (2.8)\n",
            "Requirement already satisfied: six>=1.5 in /usr/local/lib/python3.12/dist-packages (from python-dateutil->python-fasthtml->hands-on-ai) (1.17.0)\n",
            "Collecting apsw (from apswutils>=0.1.0->fastlite>=0.1.1->python-fasthtml->hands-on-ai)\n",
            "  Downloading apsw-3.50.4.0-cp312-cp312-manylinux_2_28_x86_64.whl.metadata (3.7 kB)\n",
            "Requirement already satisfied: mdurl~=0.1 in /usr/local/lib/python3.12/dist-packages (from markdown-it-py>=2.2.0->rich<15.0.0,>=13.7.0->instructor>=1.11.0->hands-on-ai) (0.1.2)\n",
            "Downloading hands_on_ai-0.2.1-py3-none-any.whl (143 kB)\n",
            "\u001b[2K   \u001b[90m━━━━━━━━━━━━━━━━━━━━━━━━━━━━━━━━━━━━━━━━\u001b[0m \u001b[32m143.7/143.7 kB\u001b[0m \u001b[31m7.0 MB/s\u001b[0m eta \u001b[36m0:00:00\u001b[0m\n",
            "\u001b[?25hDownloading instructor-1.11.3-py3-none-any.whl (155 kB)\n",
            "\u001b[2K   \u001b[90m━━━━━━━━━━━━━━━━━━━━━━━━━━━━━━━━━━━━━━━━\u001b[0m \u001b[32m155.5/155.5 kB\u001b[0m \u001b[31m13.8 MB/s\u001b[0m eta \u001b[36m0:00:00\u001b[0m\n",
            "\u001b[?25hDownloading pymupdf-1.26.4-cp39-abi3-manylinux_2_28_x86_64.whl (24.1 MB)\n",
            "\u001b[2K   \u001b[90m━━━━━━━━━━━━━━━━━━━━━━━━━━━━━━━━━━━━━━━━\u001b[0m \u001b[32m24.1/24.1 MB\u001b[0m \u001b[31m102.6 MB/s\u001b[0m eta \u001b[36m0:00:00\u001b[0m\n",
            "\u001b[?25hDownloading python_docx-1.2.0-py3-none-any.whl (252 kB)\n",
            "\u001b[2K   \u001b[90m━━━━━━━━━━━━━━━━━━━━━━━━━━━━━━━━━━━━━━━━\u001b[0m \u001b[32m253.0/253.0 kB\u001b[0m \u001b[31m19.4 MB/s\u001b[0m eta \u001b[36m0:00:00\u001b[0m\n",
            "\u001b[?25hDownloading python_fasthtml-0.12.29-py3-none-any.whl (71 kB)\n",
            "\u001b[2K   \u001b[90m━━━━━━━━━━━━━━━━━━━━━━━━━━━━━━━━━━━━━━━━\u001b[0m \u001b[32m71.0/71.0 kB\u001b[0m \u001b[31m6.1 MB/s\u001b[0m eta \u001b[36m0:00:00\u001b[0m\n",
            "\u001b[?25hDownloading diskcache-5.6.3-py3-none-any.whl (45 kB)\n",
            "\u001b[2K   \u001b[90m━━━━━━━━━━━━━━━━━━━━━━━━━━━━━━━━━━━━━━━━\u001b[0m \u001b[32m45.5/45.5 kB\u001b[0m \u001b[31m3.5 MB/s\u001b[0m eta \u001b[36m0:00:00\u001b[0m\n",
            "\u001b[?25hDownloading fastlite-0.2.1-py3-none-any.whl (17 kB)\n",
            "Downloading jiter-0.10.0-cp312-cp312-manylinux_2_17_x86_64.manylinux2014_x86_64.whl (352 kB)\n",
            "\u001b[2K   \u001b[90m━━━━━━━━━━━━━━━━━━━━━━━━━━━━━━━━━━━━━━━━\u001b[0m \u001b[32m352.0/352.0 kB\u001b[0m \u001b[31m23.9 MB/s\u001b[0m eta \u001b[36m0:00:00\u001b[0m\n",
            "\u001b[?25hDownloading apswutils-0.1.0-py3-none-any.whl (80 kB)\n",
            "\u001b[2K   \u001b[90m━━━━━━━━━━━━━━━━━━━━━━━━━━━━━━━━━━━━━━━━\u001b[0m \u001b[32m80.5/80.5 kB\u001b[0m \u001b[31m6.0 MB/s\u001b[0m eta \u001b[36m0:00:00\u001b[0m\n",
            "\u001b[?25hDownloading httptools-0.6.4-cp312-cp312-manylinux_2_5_x86_64.manylinux1_x86_64.manylinux_2_17_x86_64.manylinux2014_x86_64.whl (510 kB)\n",
            "\u001b[2K   \u001b[90m━━━━━━━━━━━━━━━━━━━━━━━━━━━━━━━━━━━━━━━━\u001b[0m \u001b[32m510.8/510.8 kB\u001b[0m \u001b[31m34.3 MB/s\u001b[0m eta \u001b[36m0:00:00\u001b[0m\n",
            "\u001b[?25hDownloading uvloop-0.21.0-cp312-cp312-manylinux_2_17_x86_64.manylinux2014_x86_64.whl (4.7 MB)\n",
            "\u001b[2K   \u001b[90m━━━━━━━━━━━━━━━━━━━━━━━━━━━━━━━━━━━━━━━━\u001b[0m \u001b[32m4.7/4.7 MB\u001b[0m \u001b[31m109.0 MB/s\u001b[0m eta \u001b[36m0:00:00\u001b[0m\n",
            "\u001b[?25hDownloading watchfiles-1.1.0-cp312-cp312-manylinux_2_17_x86_64.manylinux2014_x86_64.whl (452 kB)\n",
            "\u001b[2K   \u001b[90m━━━━━━━━━━━━━━━━━━━━━━━━━━━━━━━━━━━━━━━━\u001b[0m \u001b[32m452.2/452.2 kB\u001b[0m \u001b[31m31.1 MB/s\u001b[0m eta \u001b[36m0:00:00\u001b[0m\n",
            "\u001b[?25hDownloading apsw-3.50.4.0-cp312-cp312-manylinux_2_28_x86_64.whl (7.1 MB)\n",
            "\u001b[2K   \u001b[90m━━━━━━━━━━━━━━━━━━━━━━━━━━━━━━━━━━━━━━━━\u001b[0m \u001b[32m7.1/7.1 MB\u001b[0m \u001b[31m51.3 MB/s\u001b[0m eta \u001b[36m0:00:00\u001b[0m\n",
            "\u001b[?25hInstalling collected packages: uvloop, python-docx, pymupdf, jiter, httptools, diskcache, apsw, watchfiles, apswutils, fastlite, python-fasthtml, instructor, hands-on-ai\n",
            "  Attempting uninstall: jiter\n",
            "    Found existing installation: jiter 0.11.0\n",
            "    Uninstalling jiter-0.11.0:\n",
            "      Successfully uninstalled jiter-0.11.0\n",
            "Successfully installed apsw-3.50.4.0 apswutils-0.1.0 diskcache-5.6.3 fastlite-0.2.1 hands-on-ai-0.2.1 httptools-0.6.4 instructor-1.11.3 jiter-0.10.0 pymupdf-1.26.4 python-docx-1.2.0 python-fasthtml-0.12.29 uvloop-0.21.0 watchfiles-1.1.0\n"
          ]
        }
      ],
      "source": [
        "# 🧪 Optional packages — uncomment if needed in Colab or JupyterHub\n",
        "!pip install fetch-my-weather\n",
        "!pip install hands-on-ai\n"
      ]
    },
    {
      "cell_type": "code",
      "source": [
        "import os\n",
        "\n",
        "os.environ['HANDS_ON_AI_SERVER'] = 'http://ollama.serveur.au'\n",
        "os.environ['HANDS_ON_AI_MODEL'] = 'granite3.2'\n",
        "os.environ['HANDS_ON_AI_API_KEY'] = input('Enter your API key: ')"
      ],
      "metadata": {
        "id": "B2JKlJfrGgIb",
        "colab": {
          "base_uri": "https://localhost:8080/"
        },
        "outputId": "3fbd135f-0cfb-49fe-fd7b-07237ca954a9"
      },
      "id": "B2JKlJfrGgIb",
      "execution_count": 11,
      "outputs": [
        {
          "name": "stdout",
          "output_type": "stream",
          "text": [
            "Enter your API key: Perth\n"
          ]
        }
      ]
    },
    {
      "cell_type": "markdown",
      "id": "59ae7543",
      "metadata": {
        "id": "59ae7543"
      },
      "source": [
        "## 📦 Setup and Configuration\n",
        "Import required packages and setup environment."
      ]
    },
    {
      "cell_type": "code",
      "execution_count": 13,
      "id": "f1dd051e",
      "metadata": {
        "id": "f1dd051e",
        "colab": {
          "base_uri": "https://localhost:8080/"
        },
        "outputId": "1b46f754-3007-48bb-eee9-96f414aaf624"
      },
      "outputs": [
        {
          "output_type": "stream",
          "name": "stdout",
          "text": [
            "Collecting pyinputplus\n",
            "  Downloading PyInputPlus-0.2.12.tar.gz (20 kB)\n",
            "  Installing build dependencies ... \u001b[?25l\u001b[?25hdone\n",
            "  Getting requirements to build wheel ... \u001b[?25l\u001b[?25hdone\n",
            "  Preparing metadata (pyproject.toml) ... \u001b[?25l\u001b[?25hdone\n",
            "Collecting pysimplevalidate>=0.2.7 (from pyinputplus)\n",
            "  Downloading PySimpleValidate-0.2.12.tar.gz (22 kB)\n",
            "  Installing build dependencies ... \u001b[?25l\u001b[?25hdone\n",
            "  Getting requirements to build wheel ... \u001b[?25l\u001b[?25hdone\n",
            "  Preparing metadata (pyproject.toml) ... \u001b[?25l\u001b[?25hdone\n",
            "Collecting stdiomask>=0.0.3 (from pyinputplus)\n",
            "  Downloading stdiomask-0.0.6.tar.gz (3.6 kB)\n",
            "  Installing build dependencies ... \u001b[?25l\u001b[?25hdone\n",
            "  Getting requirements to build wheel ... \u001b[?25l\u001b[?25hdone\n",
            "  Preparing metadata (pyproject.toml) ... \u001b[?25l\u001b[?25hdone\n",
            "Building wheels for collected packages: pyinputplus, pysimplevalidate, stdiomask\n",
            "  Building wheel for pyinputplus (pyproject.toml) ... \u001b[?25l\u001b[?25hdone\n",
            "  Created wheel for pyinputplus: filename=pyinputplus-0.2.12-py3-none-any.whl size=11348 sha256=da85adfda8d6c041a948a6fd7b72506c1896422238d35be8ef2cb8ec1552d71c\n",
            "  Stored in directory: /root/.cache/pip/wheels/85/81/c1/325c8199c5c4de8a0b9af900ff9cd8bd69853e3d9419493512\n",
            "  Building wheel for pysimplevalidate (pyproject.toml) ... \u001b[?25l\u001b[?25hdone\n",
            "  Created wheel for pysimplevalidate: filename=pysimplevalidate-0.2.12-py3-none-any.whl size=16225 sha256=2ed72ac4b3278b119b0dcb96b1bdd123af80f9ad67d79d75c67ef87d9a2afd17\n",
            "  Stored in directory: /root/.cache/pip/wheels/09/de/18/4dd2be0dbdf31870c6f0abde43b0de197b1c095655ad7da5c2\n",
            "  Building wheel for stdiomask (pyproject.toml) ... \u001b[?25l\u001b[?25hdone\n",
            "  Created wheel for stdiomask: filename=stdiomask-0.0.6-py3-none-any.whl size=3358 sha256=629a3097ea1dd30a27f1c78783aba0e345993a5310775c925650621396dc5e71\n",
            "  Stored in directory: /root/.cache/pip/wheels/05/c7/e6/c66ff8c008b4d73f2db458feb4922075e7755853fe496e5135\n",
            "Successfully built pyinputplus pysimplevalidate stdiomask\n",
            "Installing collected packages: stdiomask, pysimplevalidate, pyinputplus\n",
            "Successfully installed pyinputplus-0.2.12 pysimplevalidate-0.2.12 stdiomask-0.0.6\n"
          ]
        }
      ],
      "source": [
        "import requests\n",
        "import matplotlib.pyplot as plt\n",
        "# Install pyinputplus if not already installed\n",
        "!pip install pyinputplus\n",
        "import pyinputplus as pyip\n",
        "# ✅ Import after installing (if needed)\n",
        "from fetch_my_weather import get_weather\n",
        "from hands_on_ai.chat import get_response\n",
        "\n",
        "# Add any other setup code here"
      ]
    },
    {
      "cell_type": "code",
      "source": [
        "import warnings\n",
        "warnings.filterwarnings(\"ignore\", category=DeprecationWarning)"
      ],
      "metadata": {
        "id": "ri2F9M3YwnCJ"
      },
      "id": "ri2F9M3YwnCJ",
      "execution_count": 14,
      "outputs": []
    },
    {
      "cell_type": "markdown",
      "id": "f736ade3",
      "metadata": {
        "id": "f736ade3"
      },
      "source": [
        "## 🌤️ Weather Data Functions"
      ]
    },
    {
      "cell_type": "code",
      "execution_count": 38,
      "id": "7a2c7cd0",
      "metadata": {
        "id": "7a2c7cd0"
      },
      "outputs": [],
      "source": [
        "# Define get_weather_data() function here\n",
        "from fetch_my_weather import get_weather\n",
        "\n",
        "def get_weather_data(location, forecast_days=5):\n",
        "    \"\"\"\n",
        "    Retrieve weather data for a specified location.\n",
        "\n",
        "    Args:\n",
        "        location (str): City or location name\n",
        "        forecast_days (int): Number of days to forecast (1-5)\n",
        "\n",
        "    Returns:\n",
        "        dict: Weather data including current conditions and forecast\n",
        "    \"\"\"\n",
        "    try:\n",
        "        data = get_weather(location)  # fetch data\n",
        "\n",
        "        # Handle case where no data is returned\n",
        "        if not data:\n",
        "            return {\"error\": \"Location not found\"}\n",
        "\n",
        "        # Access data as a dictionary\n",
        "        data_dict = data.dict()\n",
        "\n",
        "        # Keep only requested forecast days\n",
        "        data_dict[\"forecast\"] = data_dict.get(\"forecast\", [])[:forecast_days]\n",
        "        return data_dict\n",
        "\n",
        "    except Exception as e:\n",
        "        return {\"error\": str(e)}"
      ]
    },
    {
      "cell_type": "code",
      "source": [
        "import requests\n",
        "\n",
        "def get_weather_data(location, forecast_days=3):\n",
        "    \"\"\"\n",
        "    Retrieve weather data for a specified location using wttr.in API directly.\n",
        "    \"\"\"\n",
        "    try:\n",
        "        url = f\"https://wttr.in/{location}?format=j1\"\n",
        "        r = requests.get(url, timeout=10)\n",
        "        r.raise_for_status()\n",
        "        data = r.json()\n",
        "\n",
        "        current = data.get(\"current_condition\", [{}])[0]\n",
        "\n",
        "        forecast = data.get(\"weather\", [])[:forecast_days]\n",
        "        if not forecast:  # fallback if forecast missing\n",
        "            forecast = [{\n",
        "                \"date\": \"N/A\",\n",
        "                \"maxtempC\": current.get(\"temp_C\", \"N/A\"),\n",
        "                \"mintempC\": current.get(\"temp_C\", \"N/A\"),\n",
        "                \"hourly\": [{\"chanceofrain\": current.get(\"humidity\", \"0\")}]\n",
        "            }]\n",
        "\n",
        "        return {\n",
        "            \"location\": location,\n",
        "            \"current\": {\n",
        "                \"temp_C\": current.get(\"temp_C\", \"N/A\"),\n",
        "                \"humidity\": current.get(\"humidity\", \"N/A\"),\n",
        "                \"description\": current.get(\"weatherDesc\", [{}])[0].get(\"value\", \"unknown\")\n",
        "            },\n",
        "            \"forecast\": forecast\n",
        "        }\n",
        "\n",
        "    except Exception as e:\n",
        "        return {\"error\": str(e)}"
      ],
      "metadata": {
        "id": "0_Dx3pGOv847"
      },
      "id": "0_Dx3pGOv847",
      "execution_count": 94,
      "outputs": []
    },
    {
      "cell_type": "code",
      "source": [
        "sample = get_weather_data(\"Perth\", forecast_days=3)\n",
        "print(\"Current block:\", sample[\"current\"])"
      ],
      "metadata": {
        "colab": {
          "base_uri": "https://localhost:8080/"
        },
        "id": "SJMORarKmcyo",
        "outputId": "bfce2cff-c723-4bd5-f3ed-69785cfed14a"
      },
      "id": "SJMORarKmcyo",
      "execution_count": 95,
      "outputs": [
        {
          "output_type": "stream",
          "name": "stdout",
          "text": [
            "Current block: {'temp_C': '14', 'humidity': '59', 'description': 'Sunny'}\n"
          ]
        }
      ]
    },
    {
      "cell_type": "markdown",
      "id": "8a744fdc",
      "metadata": {
        "id": "8a744fdc"
      },
      "source": [
        "## 📊 Visualisation Functions"
      ]
    },
    {
      "cell_type": "code",
      "execution_count": 96,
      "id": "9dc3bf85",
      "metadata": {
        "id": "9dc3bf85"
      },
      "outputs": [],
      "source": [
        "# Define create_temperature_visualisation() here\n",
        "def create_temperature_visualisation(weather_data, output_type='display'):\n",
        "    \"\"\"\n",
        "    Create visualisation of temperature data.\n",
        "\n",
        "    Args:\n",
        "        weather_data (dict): The processed weather data\n",
        "        output_type (str): Either 'display' to show in notebook or 'figure' to return the figure\n",
        "\n",
        "    Returns:\n",
        "        If output_type is 'figure', returns the matplotlib figure object\n",
        "        Otherwise, displays the visualisation in the notebook\n",
        "    \"\"\"\n",
        "     # Step 1: Get forecast safely\n",
        "    forecast = weather_data.get(\"forecast\", [])\n",
        "    if not forecast:\n",
        "        print(\"⚠️ No forecast data available to plot.\")\n",
        "        return\n",
        "\n",
        "    # Step 2: Extract dates and temperatures\n",
        "    days = [day[\"date\"] for day in forecast]\n",
        "    max_temps = [int(day.get(\"maxtempC\", 0)) for day in forecast]\n",
        "    min_temps = [int(day.get(\"mintempC\", 0)) for day in forecast]\n",
        "\n",
        "    # Step 3: Create chart\n",
        "    fig, ax = plt.subplots()\n",
        "    ax.plot(days, max_temps, label=\"Max Temp (°C)\", marker=\"o\", color=\"red\")\n",
        "    ax.plot(days, min_temps, label=\"Min Temp (°C)\", marker=\"o\", color=\"blue\")\n",
        "\n",
        "    ax.set_title(f\"Temperature Forecast – {weather_data.get('location', 'Unknown')}\")\n",
        "    ax.set_xlabel(\"Date\")\n",
        "    ax.set_ylabel(\"°C\")\n",
        "    ax.legend()\n",
        "\n",
        "    # Step 4: Show or return\n",
        "    if output_type == 'figure':\n",
        "        return fig\n",
        "    else:\n",
        "        plt.show()"
      ]
    },
    {
      "cell_type": "code",
      "source": [
        "sample = get_weather_data(\"Perth\", forecast_days=3)\n",
        "create_temperature_visualisation(sample)"
      ],
      "metadata": {
        "colab": {
          "base_uri": "https://localhost:8080/",
          "height": 472
        },
        "id": "Oi0eKcGcvEwl",
        "outputId": "18b31c22-2d0c-48c3-bb30-7199673442f1"
      },
      "id": "Oi0eKcGcvEwl",
      "execution_count": 97,
      "outputs": [
        {
          "output_type": "display_data",
          "data": {
            "text/plain": [
              "<Figure size 640x480 with 1 Axes>"
            ],
            "image/png": "[encoded data removed]"
          },
          "metadata": {}
        }
      ]
    },
    {
      "cell_type": "code",
      "source": [
        "def create_precipitation_visualisation(weather_data, output_type='display'):\n",
        "    \"\"\"\n",
        "    Create visualisation of precipitation data.\n",
        "\n",
        "    Args:\n",
        "        weather_data (dict): The processed weather data\n",
        "        output_type (str): Either 'display' to show in notebook or 'figure' to return the figure\n",
        "\n",
        "    Returns:\n",
        "        If output_type is 'figure', returns the matplotlib figure object\n",
        "        Otherwise, displays the visualisation in the notebook\n",
        "    \"\"\"\n",
        "\n",
        "    forecast = weather_data.get(\"forecast\", [])\n",
        "    if not forecast:\n",
        "        print(\"⚠️ No forecast data available to plot.\")\n",
        "        return\n",
        "\n",
        "    days = [day[\"date\"] for day in forecast]\n",
        "    precip = [max(int(hour.get(\"chanceofrain\", 0)) for hour in day.get(\"hourly\", []))\n",
        "        for day in forecast]\n",
        "\n",
        "    fig, ax = plt.subplots()\n",
        "    bars = ax.bar(days, precip, color=\"skyblue\")\n",
        "    for bar, value in zip(bars, precip):\n",
        "        ax.text(\n",
        "            bar.get_x() + bar.get_width() / 2,\n",
        "            value + 2,\n",
        "            f\"{value}%\",\n",
        "            ha=\"center\",\n",
        "            va=\"bottom\",\n",
        "            fontsize=9,\n",
        "            color=\"blue\"\n",
        "    )\n",
        "\n",
        "    ax.set_title(f\"Chance of Rain – {weather_data.get('location', 'Unknown')}\")\n",
        "    ax.set_xlabel(\"Date\")\n",
        "    ax.set_ylabel(\"Chance of Rain (%)\")\n",
        "    ax.set_ylim(0, 100)  # Keep consistent scale\n",
        "    ax.grid(axis=\"y\", linestyle=\"--\", alpha=0.6)\n",
        "\n",
        "    if output_type == 'figure':\n",
        "        return fig\n",
        "    else:\n",
        "        plt.show()"
      ],
      "metadata": {
        "id": "HpOlQylYG5Ho"
      },
      "id": "HpOlQylYG5Ho",
      "execution_count": 98,
      "outputs": []
    },
    {
      "cell_type": "code",
      "source": [
        "sample = get_weather_data(\"Perth\", forecast_days=3)\n",
        "create_precipitation_visualisation(sample)"
      ],
      "metadata": {
        "colab": {
          "base_uri": "https://localhost:8080/",
          "height": 472
        },
        "id": "XQGxL0YY3eDB",
        "outputId": "3433f423-b6c4-4186-b952-a52ea8c530ba"
      },
      "id": "XQGxL0YY3eDB",
      "execution_count": 99,
      "outputs": [
        {
          "output_type": "display_data",
          "data": {
            "text/plain": [
              "<Figure size 640x480 with 1 Axes>"
            ],
            "image/png": "[encoded data removed]"
          },
          "metadata": {}
        }
      ]
    },
    {
      "cell_type": "markdown",
      "id": "9f95d160",
      "metadata": {
        "id": "9f95d160"
      },
      "source": [
        "## 🤖 Natural Language Processing"
      ]
    },
    {
      "cell_type": "code",
      "execution_count": 59,
      "id": "bcc5833e",
      "metadata": {
        "id": "bcc5833e"
      },
      "outputs": [],
      "source": [
        "# Define parse_weather_question() and generate_weather_response() here\n",
        "import re\n",
        "\n",
        "def parse_weather_question(question):\n",
        "    \"\"\"\n",
        "    Parse a natural language weather question.\n",
        "\n",
        "    Args:\n",
        "        question (str): User's weather-related question\n",
        "\n",
        "    Returns:\n",
        "        dict: Extracted information including location, time period, and weather attribute\n",
        "    \"\"\"\n",
        "    q = question.lower()\n",
        "\n",
        "    parsed = {\n",
        "        \"location\": \"Perth\",\n",
        "        \"attribute\": \"temp\",\n",
        "        \"time\": \"today\"\n",
        "    }\n",
        "    print(generate_weather_response(parsed, sample))\n",
        "    if \"tomorrow\" in q:\n",
        "        parsed[\"time\"] = \"tomorrow\"\n",
        "\n",
        "    if \"rain\" in q or \"umbrella\" in q or \"precip\" in q:\n",
        "        parsed[\"attribute\"] = \"rain\"\n",
        "    elif \"humidity\" in q:\n",
        "        parsed[\"attribute\"] = \"humidity\"\n",
        "    elif \"temp\" in q or \"hot\" in q or \"cold\" in q:\n",
        "        parsed[\"attribute\"] = \"temp\"\n",
        "\n",
        "    return parsed\n",
        "\n",
        "def generate_weather_response(parsed_question, weather_data):\n",
        "    \"\"\"\n",
        "    Generate a natural language response to a weather question.\n",
        "\n",
        "    Args:\n",
        "        parsed_question (dict): Parsed question data\n",
        "        weather_data (dict): Weather data\n",
        "\n",
        "    Returns:\n",
        "        str: Natural language response\n",
        "    \"\"\"\n",
        "    attr = parsed_question[\"attribute\"]\n",
        "    time = parsed_question[\"time\"].title()\n",
        "    city = parsed_question[\"location\"]\n",
        "\n",
        "\n",
        "    day_idx = 0 if parsed_question[\"time\"] == \"today\" else 1\n",
        "    forecast = weather_data.get(\"forecast\", [])\n",
        "    if not forecast:\n",
        "        return f\"⚠️ Sorry, no forecast available for {city}.\"\n",
        "\n",
        "\n",
        "    if attr == \"temp\":\n",
        "        return (\n",
        "            f\"{time} in {city}, the temperature will be around \"\n",
        "            f\"{weather_data['current']['temp_C']}°C with \"\n",
        "            f\"{weather_data['current']['description'].lower()}.\"\n",
        "        )\n",
        "\n",
        "    elif attr == \"rain\":\n",
        "        chance = forecast[day_idx].get(\"hourly\", [{}])[0].get(\"chanceofrain\", \"0\")\n",
        "        chance = int(chance)\n",
        "\n",
        "\n",
        "        if chance > 50:\n",
        "            umbrella = \"You should take an umbrella.\"\n",
        "        elif chance > 20:\n",
        "            umbrella = \"Maybe take an umbrella, just in case.\"\n",
        "        else:\n",
        "            umbrella = \"No umbrella needed.\"\n",
        "\n",
        "        return f\"{time} in {city}, the chance of rain is {chance}%. {umbrella}\"\n",
        "\n",
        "    elif attr == \"humidity\":\n",
        "        return f\"{time} in {city}, the humidity is {weather_data['current']['humidity']}%.\"\n",
        "\n",
        "    else:\n",
        "        return \"⚠️ Sorry, I couldn't understand your question.\""
      ]
    },
    {
      "cell_type": "code",
      "source": [
        "sample = get_weather_data(\"Perth\", forecast_days=3)\n",
        "\n",
        "questions = [\n",
        "    \"What is the temperature today in Perth?\",\n",
        "    \"Should I take an umbrella tomorrow?\",\n",
        "    \"What is the chance of rain in Perth?\",\n",
        "    \"What is the humidity today in Perth?\"\n",
        "]\n",
        "\n",
        "for q in questions:\n",
        "    parsed = parse_weather_question(q)\n",
        "    print(\"Q:\", q)\n",
        "    print(\"Parsed:\", parsed)\n",
        "    print(\"Answer:\", generate_weather_response(parsed, sample))\n",
        "    print(\"-----\")"
      ],
      "metadata": {
        "colab": {
          "base_uri": "https://localhost:8080/"
        },
        "id": "f0dyzs9o2pnA",
        "outputId": "ea09fcc1-e355-4134-a079-a8e8173c7fbf"
      },
      "id": "f0dyzs9o2pnA",
      "execution_count": 60,
      "outputs": [
        {
          "output_type": "stream",
          "name": "stdout",
          "text": [
            "Today in Perth, the temperature will be around 14°C with sunny.\n",
            "Q: What is the temperature today in Perth?\n",
            "Parsed: {'location': 'Perth', 'attribute': 'temp', 'time': 'today'}\n",
            "Answer: Today in Perth, the temperature will be around 14°C with sunny.\n",
            "-----\n",
            "Today in Perth, the temperature will be around 14°C with sunny.\n",
            "Q: Should I take an umbrella tomorrow?\n",
            "Parsed: {'location': 'Perth', 'attribute': 'rain', 'time': 'tomorrow'}\n",
            "Answer: Tomorrow in Perth, the chance of rain is 0%. No umbrella needed.\n",
            "-----\n",
            "Today in Perth, the temperature will be around 14°C with sunny.\n",
            "Q: What is the chance of rain in Perth?\n",
            "Parsed: {'location': 'Perth', 'attribute': 'rain', 'time': 'today'}\n",
            "Answer: Today in Perth, the chance of rain is 0%. No umbrella needed.\n",
            "-----\n",
            "Today in Perth, the temperature will be around 14°C with sunny.\n",
            "Q: What is the humidity today in Perth?\n",
            "Parsed: {'location': 'Perth', 'attribute': 'humidity', 'time': 'today'}\n",
            "Answer: Today in Perth, the humidity is 59%.\n",
            "-----\n"
          ]
        }
      ]
    },
    {
      "cell_type": "markdown",
      "id": "0d85225e",
      "metadata": {
        "id": "0d85225e"
      },
      "source": [
        "## 🧭 User Interface"
      ]
    },
    {
      "cell_type": "code",
      "execution_count": 68,
      "id": "fa6cb0f6",
      "metadata": {
        "id": "fa6cb0f6"
      },
      "outputs": [],
      "source": [
        "# Define menu functions using pyinputplus or ipywidgets here\n",
        "import pyinputplus as pyip\n",
        "\n",
        "def run_app():\n",
        "    \"\"\"\n",
        "    WeatherWise main menu using pyinputplus (Perth-only version).\n",
        "    \"\"\"\n",
        "    while True:\n",
        "\n",
        "        choice = pyip.inputMenu(\n",
        "            ['Current Weather (Perth)',\n",
        "             'Forecast Charts (Perth)',\n",
        "             'Ask a Question (Perth)',\n",
        "             'Exit'],\n",
        "            numbered=True\n",
        "        )\n",
        "\n",
        "\n",
        "        if choice == 'Current Weather (Perth)':\n",
        "            data = get_weather_data(\"Perth\", forecast_days=3)\n",
        "            print(\"\\n🌡️ Current Weather in Perth:\")\n",
        "            print(f\"Temperature: {data['current']['temp_C']}°C\")\n",
        "            print(f\"Humidity: {data['current']['humidity']}%\")\n",
        "            print(f\"Conditions: {data['current']['description']}\")\n",
        "\n",
        "        elif choice == 'Forecast Charts (Perth)':\n",
        "            data = get_weather_data(\"Perth\", forecast_days=3)\n",
        "            print(\"\\n📊 Generating charts...\")\n",
        "            create_temperature_visualisation(data)\n",
        "            create_precipitation_visualisation(data)\n",
        "\n",
        "        elif choice == 'Ask a Question (Perth)':\n",
        "            data = get_weather_data(\"Perth\", forecast_days=3)\n",
        "            q = input(\"❓ Ask your weather question about Perth: \")\n",
        "            parsed = parse_weather_question(q)\n",
        "            print(\"🤖\", generate_weather_response(parsed, data))\n",
        "\n",
        "        elif choice == 'Exit':\n",
        "            print(\"\\n👋 Goodbye! Have a great day 🌤️\")\n",
        "            break"
      ]
    },
    {
      "cell_type": "code",
      "source": [
        "run_app()"
      ],
      "metadata": {
        "colab": {
          "base_uri": "https://localhost:8080/",
          "height": 1000
        },
        "id": "elIao9qv-8NN",
        "outputId": "a900f40f-74e0-45b6-f9af-508a62c1a520"
      },
      "id": "elIao9qv-8NN",
      "execution_count": 69,
      "outputs": [
        {
          "output_type": "stream",
          "name": "stdout",
          "text": [
            "Please select one of the following:\n",
            "1. Current Weather (Perth)\n",
            "2. Forecast Charts (Perth)\n",
            "3. Ask a Question (Perth)\n",
            "4. Exit\n",
            "2\n",
            "\n",
            "📊 Generating charts...\n"
          ]
        },
        {
          "output_type": "display_data",
          "data": {
            "text/plain": [
              "<Figure size 640x480 with 1 Axes>"
            ],
            "image/png": "[encoded data removed]"
          },
          "metadata": {}
        },
        {
          "output_type": "display_data",
          "data": {
            "text/plain": [
              "<Figure size 640x480 with 1 Axes>"
            ],
            "image/png": "[encoded data removed]"
          },
          "metadata": {}
        },
        {
          "output_type": "stream",
          "name": "stdout",
          "text": [
            "Please select one of the following:\n",
            "1. Current Weather (Perth)\n",
            "2. Forecast Charts (Perth)\n",
            "3. Ask a Question (Perth)\n",
            "4. Exit\n",
            "4\n",
            "\n",
            "👋 Goodbye! Have a great day 🌤️\n"
          ]
        }
      ]
    },
    {
      "cell_type": "markdown",
      "id": "d643a53c",
      "metadata": {
        "id": "d643a53c"
      },
      "source": [
        "## 🧩 Main Application Logic"
      ]
    },
    {
      "cell_type": "code",
      "execution_count": 70,
      "id": "a9e2e805",
      "metadata": {
        "id": "a9e2e805"
      },
      "outputs": [],
      "source": [
        "# Tie everything together here\n",
        "def generate_weather_response(parsed_question, weather_data):\n",
        "    \"\"\"\n",
        "    Generate a natural language response to a weather question.\n",
        "\n",
        "    Args:\n",
        "        parsed_question (dict): Parsed question data\n",
        "        weather_data (dict): Weather data\n",
        "\n",
        "    Returns:\n",
        "        str: Natural language response\n",
        "    \"\"\"\n",
        "\n",
        "    attr = parsed_question[\"attribute\"]\n",
        "    time = parsed_question[\"time\"].title()\n",
        "    city = parsed_question[\"location\"]\n",
        "\n",
        "\n",
        "    day_idx = 0 if parsed_question[\"time\"] == \"today\" else 1\n",
        "    forecast = weather_data.get(\"forecast\", [])\n",
        "    if not forecast:\n",
        "        return f\"⚠️ Sorry, no forecast available for {city}.\"\n",
        "\n",
        "\n",
        "    if attr == \"temp\":\n",
        "        return (\n",
        "            f\"{time} in {city}, the temperature will be around \"\n",
        "            f\"{weather_data['current']['temp_C']}°C with \"\n",
        "            f\"{weather_data['current']['description'].lower()}.\"\n",
        "        )\n",
        "\n",
        "    elif attr == \"rain\":\n",
        "        chance = forecast[day_idx].get(\"hourly\", [{}])[0].get(\"chanceofrain\", \"0\")\n",
        "        chance = int(chance)\n",
        "\n",
        "\n",
        "        if chance > 50:\n",
        "            umbrella = \"You should take an umbrella.\"\n",
        "        elif chance > 20:\n",
        "            umbrella = \"Maybe take an umbrella, just in case.\"\n",
        "        else:\n",
        "            umbrella = \"No umbrella needed.\"\n",
        "\n",
        "        return f\"{time} in {city}, the chance of rain is {chance}%. {umbrella}\"\n",
        "\n",
        "    elif attr == \"humidity\":\n",
        "        return f\"{time} in {city}, the humidity is {weather_data['current']['humidity']}%.\"\n",
        "\n",
        "    else:\n",
        "        return \"⚠️ Sorry, I couldn't understand your question.\""
      ]
    },
    {
      "cell_type": "code",
      "source": [
        "sample = get_weather_data(\"Perth\", forecast_days=3)\n",
        "\n",
        "questions = [\n",
        "    \"What is the temperature today in Perth?\",\n",
        "    \"Should I take an umbrella tomorrow?\",\n",
        "    \"What is the chance of rain in Perth?\",\n",
        "    \"What is the humidity today in Perth?\"\n",
        "]\n",
        "\n",
        "for q in questions:\n",
        "    parsed = parse_weather_question(q)\n",
        "    print(\"Q:\", q)\n",
        "    print(\"Parsed:\", parsed)\n",
        "    print(\"Answer:\", generate_weather_response(parsed, sample))\n",
        "    print(\"-----\")"
      ],
      "metadata": {
        "colab": {
          "base_uri": "https://localhost:8080/"
        },
        "id": "cqZ_RIDzAtqZ",
        "outputId": "271e11ed-d87a-49b4-9075-5fb27701d0f4"
      },
      "id": "cqZ_RIDzAtqZ",
      "execution_count": 71,
      "outputs": [
        {
          "output_type": "stream",
          "name": "stdout",
          "text": [
            "Today in Perth, the temperature will be around 14°C with sunny.\n",
            "Q: What is the temperature today in Perth?\n",
            "Parsed: {'location': 'Perth', 'attribute': 'temp', 'time': 'today'}\n",
            "Answer: Today in Perth, the temperature will be around 14°C with sunny.\n",
            "-----\n",
            "Today in Perth, the temperature will be around 14°C with sunny.\n",
            "Q: Should I take an umbrella tomorrow?\n",
            "Parsed: {'location': 'Perth', 'attribute': 'rain', 'time': 'tomorrow'}\n",
            "Answer: Tomorrow in Perth, the chance of rain is 0%. No umbrella needed.\n",
            "-----\n",
            "Today in Perth, the temperature will be around 14°C with sunny.\n",
            "Q: What is the chance of rain in Perth?\n",
            "Parsed: {'location': 'Perth', 'attribute': 'rain', 'time': 'today'}\n",
            "Answer: Today in Perth, the chance of rain is 0%. No umbrella needed.\n",
            "-----\n",
            "Today in Perth, the temperature will be around 14°C with sunny.\n",
            "Q: What is the humidity today in Perth?\n",
            "Parsed: {'location': 'Perth', 'attribute': 'humidity', 'time': 'today'}\n",
            "Answer: Today in Perth, the humidity is 59%.\n",
            "-----\n"
          ]
        }
      ]
    },
    {
      "cell_type": "markdown",
      "id": "fde44479",
      "metadata": {
        "id": "fde44479"
      },
      "source": [
        "## 🧪 Testing and Examples"
      ]
    },
    {
      "cell_type": "code",
      "execution_count": 72,
      "id": "4e573901",
      "metadata": {
        "id": "4e573901",
        "colab": {
          "base_uri": "https://localhost:8080/",
          "height": 1000
        },
        "outputId": "78dca0f2-8315-4c6f-ec85-d5e2f7709297"
      },
      "outputs": [
        {
          "output_type": "stream",
          "name": "stdout",
          "text": [
            "🔎 Testing Weather Data Fetch...\n",
            "Location: Perth\n",
            "Current: {'temp_C': '14', 'humidity': '59', 'description': 'Sunny'}\n",
            "Forecast length: 3\n",
            "📊 Testing Temperature Visualisation...\n"
          ]
        },
        {
          "output_type": "display_data",
          "data": {
            "text/plain": [
              "<Figure size 640x480 with 1 Axes>"
            ],
            "image/png": "[encoded data removed]"
          },
          "metadata": {}
        },
        {
          "output_type": "stream",
          "name": "stdout",
          "text": [
            "🌧️ Testing Precipitation Visualisation...\n"
          ]
        },
        {
          "output_type": "display_data",
          "data": {
            "text/plain": [
              "<Figure size 640x480 with 1 Axes>"
            ],
            "image/png": "[encoded data removed]"
          },
          "metadata": {}
        },
        {
          "output_type": "stream",
          "name": "stdout",
          "text": [
            "🤖 Testing Q&A...\n",
            "Today in Perth, the temperature will be around 14°C with sunny.\n",
            "\n",
            "Q: What is the temperature today in Perth?\n",
            "Parsed: {'location': 'Perth', 'attribute': 'temp', 'time': 'today'}\n",
            "Answer: Today in Perth, the temperature will be around 14°C with sunny.\n",
            "Today in Perth, the temperature will be around 14°C with sunny.\n",
            "\n",
            "Q: Should I take an umbrella tomorrow?\n",
            "Parsed: {'location': 'Perth', 'attribute': 'rain', 'time': 'tomorrow'}\n",
            "Answer: Tomorrow in Perth, the chance of rain is 0%. No umbrella needed.\n",
            "Today in Perth, the temperature will be around 14°C with sunny.\n",
            "\n",
            "Q: What is the chance of rain in Perth?\n",
            "Parsed: {'location': 'Perth', 'attribute': 'rain', 'time': 'today'}\n",
            "Answer: Today in Perth, the chance of rain is 0%. No umbrella needed.\n",
            "Today in Perth, the temperature will be around 14°C with sunny.\n",
            "\n",
            "Q: What is the humidity today in Perth?\n",
            "Parsed: {'location': 'Perth', 'attribute': 'humidity', 'time': 'today'}\n",
            "Answer: Today in Perth, the humidity is 59%.\n",
            "🖥️ Testing Menu (manual interaction required)...\n",
            "Please select one of the following:\n",
            "1. Current Weather (Perth)\n",
            "2. Forecast Charts (Perth)\n",
            "3. Ask a Question (Perth)\n",
            "4. Exit\n",
            "1\n",
            "\n",
            "🌡️ Current Weather in Perth:\n",
            "Temperature: 14°C\n",
            "Humidity: 59%\n",
            "Conditions: Sunny\n",
            "Please select one of the following:\n",
            "1. Current Weather (Perth)\n",
            "2. Forecast Charts (Perth)\n",
            "3. Ask a Question (Perth)\n",
            "4. Exit\n",
            "4\n",
            "\n",
            "👋 Goodbye! Have a great day 🌤️\n"
          ]
        }
      ],
      "source": [
        "# Include sample input/output for each function\n",
        "# Test the Weather Data\n",
        "print(\"🔎 Testing Weather Data Fetch...\")\n",
        "sample = get_weather_data(\"Perth\", forecast_days=3)\n",
        "\n",
        "print(\"Location:\", sample[\"location\"])\n",
        "print(\"Current:\", sample[\"current\"])\n",
        "print(\"Forecast length:\", len(sample[\"forecast\"]))\n",
        "\n",
        "# Test Temperature Chart\n",
        "print(\"📊 Testing Temperature Visualisation...\")\n",
        "create_temperature_visualisation(sample)\n",
        "\n",
        "# Test Precipation Chart\n",
        "\n",
        "print(\"🌧️ Testing Precipitation Visualisation...\")\n",
        "create_precipitation_visualisation(sample)\n",
        "\n",
        "# Test Natural Language processing\n",
        "print(\"🤖 Testing Q&A...\")\n",
        "questions = [\n",
        "    \"What is the temperature today in Perth?\",\n",
        "    \"Should I take an umbrella tomorrow?\",\n",
        "    \"What is the chance of rain in Perth?\",\n",
        "    \"What is the humidity today in Perth?\"\n",
        "]\n",
        "\n",
        "for q in questions:\n",
        "    parsed = parse_weather_question(q)\n",
        "    print(\"\\nQ:\", q)\n",
        "    print(\"Parsed:\", parsed)\n",
        "    print(\"Answer:\", generate_weather_response(parsed, sample))\n",
        "\n",
        "# Test Menu System\n",
        "print(\"🖥️ Testing Menu (manual interaction required)...\")\n",
        "# Run the interactive menu app\n",
        "run_app()"
      ]
    },
    {
      "cell_type": "markdown",
      "id": "d2885880",
      "metadata": {
        "id": "d2885880"
      },
      "source": [
        "## 🗂️ AI Prompting Log (Optional)\n",
        "Add markdown cells here summarising prompts used or link to AI conversations in the `ai-conversations/` folder."
      ]
    }
  ],
  "metadata": {
    "language_info": {
      "name": "python"
    },
    "colab": {
      "provenance": [],
      "include_colab_link": true
    },
    "kernelspec": {
      "name": "python3",
      "display_name": "Python 3"
    }
  },
  "nbformat": 4,
  "nbformat_minor": 5
}